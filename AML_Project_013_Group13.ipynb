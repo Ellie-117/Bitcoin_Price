{
  "nbformat": 4,
  "nbformat_minor": 0,
  "metadata": {
    "colab": {
      "provenance": [],
      "collapsed_sections": [
        "4SyD086eMmuu"
      ],
      "include_colab_link": true
    },
    "kernelspec": {
      "name": "python3",
      "display_name": "Python 3"
    },
    "language_info": {
      "name": "python"
    }
  },
  "cells": [
    {
      "cell_type": "markdown",
      "metadata": {
        "id": "view-in-github",
        "colab_type": "text"
      },
      "source": [
        "<a href=\"https://colab.research.google.com/github/Ellie-117/Bitcoin_Price/blob/main/AML_Project_013_Group13.ipynb\" target=\"_parent\"><img src=\"https://colab.research.google.com/assets/colab-badge.svg\" alt=\"Open In Colab\"/></a>"
      ]
    },
    {
      "cell_type": "markdown",
      "source": [
        "# Topic: Predicting Bitcoin Price"
      ],
      "metadata": {
        "id": "ccM_gKIVMBrO"
      }
    },
    {
      "cell_type": "markdown",
      "source": [
        "## Introduction\n",
        "\n"
      ],
      "metadata": {
        "id": "cgUKIm4qMJFB"
      }
    },
    {
      "cell_type": "markdown",
      "source": [
        "Bitcoin is a decentralized electronic exchange system and represents a major change in the global financial system. Its system is based on peer-to-peer and cryptographic protocols and is not managed by any government or bank (Vidal 2014). It operates on the basis of a collusive and uncertain system in which all transactions are placed in an open ledger called blockchain (Guo and Liang 2016). \n",
        "\n",
        "Today, Bitcoin has become one of the most favorable investment options. It is a fresh market that is still in its transition phase, therefore, a lot of fluctuations can still be observed. However, even though the price easily fluctuates, many people still believe they can earn huge profits by investing in Bitcoin. While considerable research has been done concerning Bitcoin network analysis, limited research has been conducted on predicting the Bitcoin price. \n",
        "\n",
        "In this project, we attempt to forcast the future bitcoin price with time-series model. Besides the past five-year bitcoin price data, we have collected other datasets including blockchain price, Ethereum price and so on to work as exogenous features incresing the accuracy of the model. To get a reliable and effective prediction result, we built several models with different methodologies including ARIMA, XGBoost and LSTM. The results show that the LSTM has the best performance among the models who get the least mean square error when evaluating."
      ],
      "metadata": {
        "id": "DowAKB5VjRYH"
      }
    },
    {
      "cell_type": "markdown",
      "source": [
        "## Dataset & Preprocessing\n"
      ],
      "metadata": {
        "id": "yXeZPZdpMTpw"
      }
    },
    {
      "cell_type": "markdown",
      "source": [
        "To choose which features could possibly be useful for predicting Bitcoin price, we decided to include several factors: the previous price of Bitcoin(BTC), some other popular crypto coins such as Ethereum coin(ETH) and Binance coin(BNB), USD price, a blockchain company(Riot Blockchain), tweets, a cryptocurrency company(Coinbase). The datasets include each day’s 'Open', 'High', 'Low', 'Close', 'Adj Close', and 'Volume'. Next step is to fill in the missing values. Since the cryptocurrency market doesn't have breaks during weekends or holidays, we only need to fill the missing values for USD price using the backfilling method. To calculate scores for each tweet, we firstly clean the data to read one by one and process them. Then using the sentiment intensity analyzer to get sentiment scores and store tweets with polarity scores in a dictionary.\n",
        " \n",
        "Based on the datasets we get for BTC, ETH, BNB, USD, Blockchain, Coinbase, we only need their \"Adjusted close\" column, so we subtracted that column from each of the datasets. Due to the different start time of coins, we used inner join to merge the columns from BTC, ETH, BNB, USD, and Blockchain. However, since coinbase and tweets only started last year, we decided to only use left join for their data and leave the rest as null. The columns in the dataset are: 'Date', 'bnb', 'eth', 'btc', 'usd', 'blockchain', 'tweets', 'cb'. Eventually, the time range of the dataset is from 2017-11-09 to 2022-12-01."
      ],
      "metadata": {
        "id": "idE4MhF84C5t"
      }
    },
    {
      "cell_type": "code",
      "source": [
        "import matplotlib.pyplot as plt\n",
        "import numpy as np\n",
        "import pandas as pd\n",
        "import seaborn as sns\n",
        "import datetime\n",
        "import time\n",
        "import math\n",
        "\n",
        "from sklearn.model_selection import train_test_split\n",
        "from sklearn.model_selection import GridSearchCV\n",
        "from sklearn.preprocessing import StandardScaler, MinMaxScaler\n",
        "from sklearn.pipeline import make_pipeline\n",
        "from sklearn import tree\n",
        "from sklearn.tree import DecisionTreeClassifier\n",
        "from sklearn.tree import DecisionTreeRegressor\n",
        "from sklearn.metrics import accuracy_score\n",
        "from sklearn.metrics import classification_report\n",
        "from sklearn.metrics import f1_score\n",
        "from sklearn.metrics import brier_score_loss\n",
        "from sklearn.metrics import mean_squared_error, r2_score, mean_absolute_percentage_error\n",
        "from sklearn.compose import ColumnTransformer, TransformedTargetRegressor\n",
        "from sklearn.compose import make_column_transformer\n",
        "from sklearn.pipeline import make_pipeline\n",
        "from sklearn.ensemble import RandomForestClassifier\n",
        "from sklearn.ensemble import GradientBoostingClassifier\n",
        "from sklearn.ensemble import HistGradientBoostingClassifier\n",
        "from sklearn.calibration import CalibratedClassifierCV\n",
        "from sklearn.calibration import calibration_curve, CalibrationDisplay\n",
        "#!pip install vaderSentiment\n",
        "from vaderSentiment.vaderSentiment import SentimentIntensityAnalyzer\n",
        "import re\n",
        "from pandas.core.frame import DataFrame\n",
        "import xgboost as xgb\n",
        "from xgboost import XGBClassifier\n",
        "from xgboost import XGBRegressor\n",
        "import tensorflow as tf\n",
        "from tensorflow import keras\n",
        "from tensorflow.keras import layers,activations\n",
        "from statsmodels.tsa.arima.model import ARIMA\n",
        "from statsmodels.tsa.api import SARIMAX\n",
        "#!pip install pmdarima   #if pmdarima is not installed, run this code and restart runtime\n",
        "from pmdarima.arima import auto_arima\n",
        "from statsmodels.tsa.statespace.varmax import VARMAX\n",
        "\n",
        "import warnings\n",
        "warnings.filterwarnings('ignore')"
      ],
      "metadata": {
        "id": "QWXpxCogbru2",
        "colab": {
          "base_uri": "https://localhost:8080/"
        },
        "outputId": "68e86f2d-615f-4176-b5aa-d1ed67f0e994"
      },
      "execution_count": null,
      "outputs": [
        {
          "output_type": "stream",
          "name": "stdout",
          "text": [
            "Looking in indexes: https://pypi.org/simple, https://us-python.pkg.dev/colab-wheels/public/simple/\n",
            "Requirement already satisfied: vaderSentiment in /usr/local/lib/python3.8/dist-packages (3.3.2)\n",
            "Requirement already satisfied: requests in /usr/local/lib/python3.8/dist-packages (from vaderSentiment) (2.23.0)\n",
            "Requirement already satisfied: certifi>=2017.4.17 in /usr/local/lib/python3.8/dist-packages (from requests->vaderSentiment) (2022.9.24)\n",
            "Requirement already satisfied: idna<3,>=2.5 in /usr/local/lib/python3.8/dist-packages (from requests->vaderSentiment) (2.10)\n",
            "Requirement already satisfied: chardet<4,>=3.0.2 in /usr/local/lib/python3.8/dist-packages (from requests->vaderSentiment) (3.0.4)\n",
            "Requirement already satisfied: urllib3!=1.25.0,!=1.25.1,<1.26,>=1.21.1 in /usr/local/lib/python3.8/dist-packages (from requests->vaderSentiment) (1.24.3)\n"
          ]
        }
      ]
    },
    {
      "cell_type": "code",
      "source": [
        "# Filling the nulls in USD\n",
        "\n",
        "usd_day=pd.read_csv('USD_unfill.csv')\n",
        "usd_day.set_index(pd.to_datetime(usd_day[\"Date\"]), inplace=True)\n",
        "idx = pd.date_range('2017-11-09', '2022-12-01')\n",
        "usd_day = usd_day.reindex(idx, fill_value= None)\n",
        "usd_day = usd_day.drop(columns=['Date'])\n",
        "\n",
        "usd_day.fillna(method='bfill',inplace=True)\n",
        "usd_day.reset_index(inplace=True)\n",
        "usd_day = usd_day.rename(columns = {'index':'Date'})\n",
        "\n",
        "usd_day.to_csv('USD.csv')"
      ],
      "metadata": {
        "id": "yKeUaV9vcpie"
      },
      "execution_count": null,
      "outputs": []
    },
    {
      "cell_type": "code",
      "source": [
        "#calculate tweets' sentiment score\n",
        "datafile =(\"/content/drive/MyDrive/Colab Notebooks/Copy of Bitcoin_tweets.csv\")\n",
        "df = pd.read_csv(datafile, header=0, skiprows=lambda i: i % 3 != 0)\n",
        "df_raw = df.copy()\n",
        "df= df.dropna(subset=['text']).reset_index(drop=True)\n",
        "df[\"source\"]= df[\"source\"].apply(str)\n",
        "df[\"source\"]= df[\"source\"].str.lower()\n",
        "df_cleaned = df[~df[\"source\"].str.contains(\"bot\")]\n",
        "btc=df_cleaned.loc[:,[\"date\",\"text\",\"user_location\",\"user_description\",\"user_followers\",\"user_friends\"]]\n",
        "btc[\"text\"] = btc[\"text\"].apply(str)\n",
        "tweets = btc[\"text\"].tolist()\n",
        "def processTweet(tweet):\n",
        "    # process the tweets\n",
        "    #Convert to lower case\n",
        "    tweet = tweet.lower()\n",
        "    #Convert www.* or https?://* to URL\n",
        "    tweet = re.sub('((www\\.[^\\s]+)|(https?://[^\\s]+))','URL',tweet)\n",
        "    #Convert @username to AT_USER\n",
        "    tweet = re.sub('@[^\\s]+','AT_USER',tweet)\n",
        "    #Remove additional white spaces\n",
        "    tweet = re.sub('[\\s]+', ' ', tweet)\n",
        "    #Replace #word with word\n",
        "    tweet = re.sub(r'#([^\\s]+)', r'\\1', tweet)#trim\n",
        "    tweet = tweet.strip('\\'\"')\n",
        "    return tweet\n",
        "tweets_cleaned = []\n",
        "#Read the tweets one by one and process it\n",
        "for i in range (0,len(tweets)):\n",
        "    processedTweet = processTweet(tweets[i])\n",
        "    tweets_cleaned.append(processedTweet)\n",
        "vader = SentimentIntensityAnalyzer()\n",
        "def getCoumpoundScore(Tweets):\n",
        "    score = vader.polarity_scores(Tweets)['compound']\n",
        "    return score\n",
        "scores = []\n",
        "\n",
        "#Read the tweets one by one and get the sentiment score\n",
        "for i in range (0,len(tweets_cleaned)):\n",
        "    tweets_score = getCoumpoundScore(tweets_cleaned[i])\n",
        "    scores.append(tweets_score)   \n",
        "\n",
        "#store the tweet with polarity score in a dictionary\n",
        "df ={\"tweets\": tweets_cleaned, \"score\" : scores}\n",
        "data = DataFrame(df)"
      ],
      "metadata": {
        "id": "wlgwbNaJC8dv"
      },
      "execution_count": null,
      "outputs": []
    },
    {
      "cell_type": "code",
      "source": [
        "# BNB, BTC, ETH, USD, blockchain, tweets, Coinbase\n",
        "\n",
        "bnb = pd.read_csv('BNB.csv')\n",
        "bnb_short = bnb[['Date', 'Adj Close']]\n",
        "bnb_short = bnb_short.rename(columns={'Adj Close': 'bnb'})\n",
        "\n",
        "btc = pd.read_csv('BTC.csv')\n",
        "btc_short = btc[['Date', 'Adj Close']]\n",
        "btc_short = btc_short.rename(columns={'Adj Close': 'btc'})\n",
        "\n",
        "eth = pd.read_csv('ETH.csv')\n",
        "eth_short = eth[['Date', 'Adj Close']]\n",
        "eth_short = eth_short.rename(columns={'Adj Close': 'eth'})\n",
        "\n",
        "usd = pd.read_csv('USD.csv')\n",
        "usd_short = usd[['Date', 'Adj Close']]\n",
        "usd_short = usd_short.rename(columns={'Adj Close': 'usd'})\n",
        "\n",
        "blockchain = pd.read_csv('blockchain.csv')\n",
        "blockchain_short = blockchain[['Date', 'Adj Close']]\n",
        "blockchain_short = blockchain_short.rename(columns={'Adj Close': 'blockchain'})\n",
        "\n",
        "tweets = pd.read_csv('tweets.csv')\n",
        "tweets_short = tweets[['Date', 'score']]\n",
        "tweets_short = tweets_short.rename(columns={'score': 'tweets'})\n",
        "\n",
        "cb = pd.read_csv('COINBASE.csv')\n",
        "cb_short = cb[['Date', 'Adj Close']]\n",
        "cb_short = cb_short.rename(columns={'Adj Close': 'cb'})\n",
        "\n",
        "# Joining the columns\n",
        "\n",
        "bnb_eth = pd.merge(left=bnb_short, right=eth_short, left_on='Date', right_on='Date')\n",
        "bnb_eth_btc = pd.merge(left=bnb_eth, right=btc_short, left_on='Date', right_on='Date')\n",
        "bnb_eth_btc_usd = pd.merge(left=bnb_eth_btc, right=usd_short, left_on='Date', right_on='Date')\n",
        "bnb_eth_btc_usd_chain = pd.merge(left=bnb_eth_btc_usd, right=blockchain_short, left_on='Date', right_on='Date')\n",
        "bnb_eth_btc_usd_chain_tweets = bnb_eth_btc_usd_chain.merge(tweets_short, on='Date', how='left')\n",
        "bnb_eth_btc_usd_chain_tweets_cb = bnb_eth_btc_usd_chain_tweets.merge(cb_short, on='Date', how='left')"
      ],
      "metadata": {
        "id": "_C3JYB6ucx2K"
      },
      "execution_count": null,
      "outputs": []
    },
    {
      "cell_type": "code",
      "source": [
        "# Generating the dataset\n",
        "\n",
        "bnb_eth_btc_usd_chain_tweets_cb.to_csv('dataset.csv')"
      ],
      "metadata": {
        "id": "WjZji679c-KC"
      },
      "execution_count": null,
      "outputs": []
    },
    {
      "cell_type": "code",
      "source": [
        "df_og = pd.read_csv('dataset.csv')"
      ],
      "metadata": {
        "id": "SsUvnEyadFgt"
      },
      "execution_count": null,
      "outputs": []
    },
    {
      "cell_type": "markdown",
      "source": [
        "Prepare the Dataset for LSTM"
      ],
      "metadata": {
        "id": "LWVUrDPlkhBo"
      }
    },
    {
      "cell_type": "code",
      "source": [
        "def prepare_dataset_for_lstm(dataset_origin, time_seq_len, ratio=0.8):\n",
        "    btc_prices = dataset_origin['btc']\n",
        "    eth_prices = dataset_origin['eth']\n",
        "    bc_index = dataset_origin['blockchain']\n",
        "\n",
        "    selected_features = ['btc', 'eth', 'blockchain']\n",
        "\n",
        "    btc_values = btc_prices.values\n",
        "    eth_values = eth_prices.values\n",
        "    bc_values = bc_index.values\n",
        "\n",
        "    training_data_len = math.ceil(len(btc_values)* 0.8)\n",
        "\n",
        "    btc_scaler = MinMaxScaler(feature_range=(0,1))\n",
        "    eth_scaler = MinMaxScaler(feature_range=(0,1))\n",
        "    bc_scaler = MinMaxScaler(feature_range=(0,1))\n",
        "\n",
        "    btc_scaled_data = btc_scaler.fit_transform(btc_values.reshape(-1,1))\n",
        "    eth_scaled_data = eth_scaler.fit_transform(eth_values.reshape(-1,1))\n",
        "    bc_scaled_data = bc_scaler.fit_transform(bc_values.reshape(-1,1))\n",
        "\n",
        "    x_train = []\n",
        "    y_train = []\n",
        "\n",
        "    for i in range(time_seq_len, training_data_len):\n",
        "        feature_vec = np.array([btc_scaled_data[i-time_seq_len:i], eth_scaled_data[i-time_seq_len:i], bc_scaled_data[i-time_seq_len:i]]).reshape(time_seq_len, len(selected_features))\n",
        "        x_train.append(feature_vec)\n",
        "        y_train.append(btc_scaled_data[i])\n",
        "        \n",
        "    x_train, y_train = np.array(x_train), np.array(y_train)\n",
        "    x_train = np.reshape(x_train, (x_train.shape[0], x_train.shape[1], len(selected_features)))\n",
        "\n",
        "    x_test = []\n",
        "    y_test = btc_values[training_data_len:]\n",
        "\n",
        "    for i in range(training_data_len, len(btc_values)):\n",
        "        feature_vec = np.array([btc_scaled_data[i-time_seq_len:i], eth_scaled_data[i-time_seq_len:i], bc_scaled_data[i-time_seq_len:i]]).reshape(time_seq_len, len(selected_features))\n",
        "        x_test.append(feature_vec)\n",
        "\n",
        "    x_test = np.array(x_test)\n",
        "    x_test = np.reshape(x_test, (x_test.shape[0], x_test.shape[1], len(selected_features)))\n",
        "    return x_train, y_train, x_test, y_test, btc_scaler"
      ],
      "metadata": {
        "id": "IQ_VSzLiklh9"
      },
      "execution_count": null,
      "outputs": []
    },
    {
      "cell_type": "markdown",
      "source": [
        "## Feature Engineering"
      ],
      "metadata": {
        "id": "tk1G8bKlMblw"
      }
    },
    {
      "cell_type": "markdown",
      "source": [
        "Here we decide which features to use in our forecasting models. \n",
        "\n",
        "First, we check the correlation between our features and decide to drop features that have high correlation with other features, BNB and Coinbase. This will help us prevent multicollinearity. \n",
        "\n",
        "Then, we decide to remove twitter sentiments. Although much effort was put into creating the twitter sentiment data, we found out that removing twitter sentiment will be helpful to our models for a few reasons. One reason is that twitter sentiment seems to have very little correlation with bitcoin price, as descibed in deliverable 2. Another is that our twitter sentiment data only exists for the past 2 years, compared to other variables that exist for more than 5 years. The other one is that our tweets sentiment score exists different values for different days. It may contain five values for today and ten values for yesterday. Even after normalizing the original range [-1,1] to be [0,1], the data is still hard to fit into the normal model. By disincluding twitter sentiment in our models we will be able to capture useful information from the past better. \n",
        "\n",
        "Next, we select not to include USD since it did not have values for weekends. If we simply copy each Friday's value or average that week's value would cause some potential harm to the training process and it will influence the prediction since that is a makeup for two values in each seven values.\n"
      ],
      "metadata": {
        "id": "yUsO7XW4FeE9"
      }
    },
    {
      "cell_type": "code",
      "source": [
        "cont_features = df_og[['eth', 'bnb', 'usd', 'blockchain', 'tweets', 'cb']]\n",
        "corr_mat = cont_features.corr().abs()\n",
        "top = corr_mat.where(np.triu(np.ones(corr_mat.shape), k=1).astype(np.bool))\n",
        "\n",
        "#Plotting the correlation matrix \n",
        "plt.figure(figsize=(15,15))\n",
        "sns.heatmap(corr_mat, annot= True, vmin= 0, linewidth=0.5)\n",
        "\n",
        "# Finding features with correlation greater than 0.80\n",
        "to_drop = [feature for feature in top.columns if any(top[feature] >= 0.80)]\n",
        "print(to_drop)\n"
      ],
      "metadata": {
        "id": "OiBUgacHeOrO",
        "colab": {
          "base_uri": "https://localhost:8080/",
          "height": 958
        },
        "outputId": "5e36e1c8-5dc0-44db-ef56-f57d1c572aea"
      },
      "execution_count": null,
      "outputs": [
        {
          "output_type": "stream",
          "name": "stderr",
          "text": [
            "<ipython-input-8-524b36bd6233>:3: DeprecationWarning: `np.bool` is a deprecated alias for the builtin `bool`. To silence this warning, use `bool` by itself. Doing this will not modify any behavior and is safe. If you specifically wanted the numpy scalar type, use `np.bool_` here.\n",
            "Deprecated in NumPy 1.20; for more details and guidance: https://numpy.org/devdocs/release/1.20.0-notes.html#deprecations\n",
            "  top = corr_mat.where(np.triu(np.ones(corr_mat.shape), k=1).astype(np.bool))\n"
          ]
        },
        {
          "output_type": "stream",
          "name": "stdout",
          "text": [
            "['bnb', 'cb']\n"
          ]
        },
        {
          "output_type": "display_data",
          "data": {
            "text/plain": [
              "<Figure size 1080x1080 with 2 Axes>"
            ],
            "image/png": "[encoded data removed]"
          },
          "metadata": {
            "needs_background": "light"
          }
        }
      ]
    },
    {
      "cell_type": "markdown",
      "source": [
        "## Models"
      ],
      "metadata": {
        "id": "ySeuRfP5MhHc"
      }
    },
    {
      "cell_type": "markdown",
      "source": [
        "### ARIMA"
      ],
      "metadata": {
        "id": "thyVi_jrM8PA"
      }
    },
    {
      "cell_type": "code",
      "source": [
        "df_arima = df_og.copy()\n",
        "df_arima = df_arima[['btc', 'eth', 'blockchain']]"
      ],
      "metadata": {
        "id": "zwrfRr5Dtqnd"
      },
      "execution_count": null,
      "outputs": []
    },
    {
      "cell_type": "markdown",
      "source": [
        "#### VARMAX model"
      ],
      "metadata": {
        "id": "2gMW--V3wjf1"
      }
    },
    {
      "cell_type": "markdown",
      "source": [
        "Since we have exogenous variables, we decide to use VARMAX model at first. The VARMAX procedure enables us to model the dynamic relationship both between the dependent variables and also between the dependent and independent variables. "
      ],
      "metadata": {
        "id": "qq-TsxVSwrZy"
      }
    },
    {
      "cell_type": "markdown",
      "source": [
        "Test the stationarity"
      ],
      "metadata": {
        "id": "hqAamTnGt5LP"
      }
    },
    {
      "cell_type": "code",
      "source": [
        "from statsmodels.tsa.stattools import adfuller\n",
        "\n",
        "# ADF Test\n",
        "result = adfuller((df_arima['btc'] - df_arima['btc'].shift())[1:], autolag='AIC')\n",
        "\n",
        "print('ADF Statistic: %f' % result[0])\n",
        "\n",
        "print('p-value: %f' % result[1])\n",
        "\n",
        "print('Critical Values:')\n",
        "\n",
        "for key, value in result[4].items():\n",
        "    print('\\t%s: %.3f' % (key, value))\n",
        "if result[0] < result[4][\"5%\"]:\n",
        "    print (\"Reject Ho - Time Series is Stationary\")\n",
        "else:\n",
        "    print (\"Failed to Reject Ho - Time Series is Non-Stationary\")"
      ],
      "metadata": {
        "id": "98GVkd-_t8F4",
        "colab": {
          "base_uri": "https://localhost:8080/"
        },
        "outputId": "016e6ce5-9733-4eea-9b6b-05f26801e7e8"
      },
      "execution_count": null,
      "outputs": [
        {
          "output_type": "stream",
          "name": "stdout",
          "text": [
            "ADF Statistic: -6.293243\n",
            "p-value: 0.000000\n",
            "Critical Values:\n",
            "\t1%: -3.436\n",
            "\t5%: -2.864\n",
            "\t10%: -2.568\n",
            "Reject Ho - Time Series is Stationary\n"
          ]
        }
      ]
    },
    {
      "cell_type": "markdown",
      "source": [
        "stationarize data by differencing"
      ],
      "metadata": {
        "id": "MgfdT_oAu6su"
      }
    },
    {
      "cell_type": "code",
      "source": [
        "btc_diff = (df_arima['btc'] - df_arima['btc'].shift())[1:]\n",
        "eth_diff = (df_arima['eth'] - df_arima['eth'].shift())[1:]\n",
        "bc_diff = (df_arima['blockchain'] - df_arima['blockchain'].shift())[1:]\n",
        "df_diff = pd.DataFrame(np.array([btc_diff,eth_diff, bc_diff]).T).rename(columns = {0:'btc', 1:'eth', 2:'bc'})"
      ],
      "metadata": {
        "id": "ZMti-_mkuIQ9"
      },
      "execution_count": null,
      "outputs": []
    },
    {
      "cell_type": "markdown",
      "source": [
        "Split the data into train and test"
      ],
      "metadata": {
        "id": "Zsc2KpqUuaHv"
      }
    },
    {
      "cell_type": "code",
      "source": [
        "split_point = int(len(df_arima)*0.8)\n",
        "df_dev = df_arima.iloc[:split_point,:]\n",
        "df_test = df_arima.iloc[split_point:,:]\n",
        "df_diff_dev = df_diff.iloc[:split_point,:]\n",
        "df_diff_test = df_diff.iloc[split_point:,:]"
      ],
      "metadata": {
        "id": "Px7LJaiWuYok"
      },
      "execution_count": null,
      "outputs": []
    },
    {
      "cell_type": "markdown",
      "source": [
        "Tune the hyperparameters with auto-Arima"
      ],
      "metadata": {
        "id": "OQOjUGEVvW5B"
      }
    },
    {
      "cell_type": "code",
      "source": [
        "arima_model_btconly = auto_arima(df_diff['btc'], start_p=1, start_q=1, start_P=1, start_Q=1,\n",
        "                     max_p=5, max_q=5, max_P=5, max_Q=5, seasonal=False,\n",
        "                     stepwise=True, suppress_warnings=True, D=10, max_D=10,\n",
        "                     error_action='ignore')\n",
        "arima_model_btconly.get_params()['order']"
      ],
      "metadata": {
        "id": "p4mGPu2evR_-",
        "colab": {
          "base_uri": "https://localhost:8080/"
        },
        "outputId": "008a9de2-5dab-4546-fcc0-d187202c0e62"
      },
      "execution_count": null,
      "outputs": [
        {
          "output_type": "execute_result",
          "data": {
            "text/plain": [
              "(0, 0, 0)"
            ]
          },
          "metadata": {},
          "execution_count": 23
        }
      ]
    },
    {
      "cell_type": "code",
      "source": [
        "# VARMAX (0,0) cannot be run as at least one parameter should be bigger than 0. \n",
        "\n",
        "# model_1 = VARMAX(df_diff_dev, order = (0,0))\n",
        "# res_1 = model_1.fit()\n",
        "# print(res_1.mse)"
      ],
      "metadata": {
        "id": "cTcMHz0BvsgV"
      },
      "execution_count": null,
      "outputs": []
    },
    {
      "cell_type": "code",
      "source": [
        "arima_model_ethonly = auto_arima(df_diff['eth'], start_p=1, start_q=1, start_P=1, start_Q=1,\n",
        "                     max_p=5, max_q=5, max_P=5, max_Q=5, seasonal=False,\n",
        "                     stepwise=True, suppress_warnings=True, D=10, max_D=10,\n",
        "                     error_action='ignore')\n",
        "arima_model_ethonly.get_params()['order']"
      ],
      "metadata": {
        "id": "n-XOH5QYvLfm",
        "colab": {
          "base_uri": "https://localhost:8080/"
        },
        "outputId": "80a89906-84fe-4003-8655-e3bccd04de88"
      },
      "execution_count": null,
      "outputs": [
        {
          "output_type": "execute_result",
          "data": {
            "text/plain": [
              "(2, 0, 2)"
            ]
          },
          "metadata": {},
          "execution_count": 24
        }
      ]
    },
    {
      "cell_type": "code",
      "source": [
        "model_2 = VARMAX(df_diff_dev, order = (2,2))\n",
        "res_2 = model_2.fit()\n",
        "print(res_2.mse)"
      ],
      "metadata": {
        "id": "UY4gWonhvySw",
        "colab": {
          "base_uri": "https://localhost:8080/"
        },
        "outputId": "23de36ba-f0d5-4cb4-b44e-1cce2be54397"
      },
      "execution_count": null,
      "outputs": [
        {
          "output_type": "stream",
          "name": "stdout",
          "text": [
            "1334486.085143387\n"
          ]
        }
      ]
    },
    {
      "cell_type": "code",
      "source": [
        "arima_model_usdonly = auto_arima(df_diff['bc'], start_p=1, start_q=1, start_P=1, start_Q=1,\n",
        "                     max_p=10, max_q=10, max_P=10, max_Q=10, seasonal=False,\n",
        "                     stepwise=True, suppress_warnings=True, D=10, max_D=10,\n",
        "                     error_action='ignore')\n",
        "arima_model_usdonly.get_params()['order']"
      ],
      "metadata": {
        "id": "flL4tRaUvlJl",
        "colab": {
          "base_uri": "https://localhost:8080/"
        },
        "outputId": "f7847b2c-020f-4bb5-c348-b478f7ec4b20"
      },
      "execution_count": null,
      "outputs": [
        {
          "output_type": "execute_result",
          "data": {
            "text/plain": [
              "(7, 0, 6)"
            ]
          },
          "metadata": {},
          "execution_count": 26
        }
      ]
    },
    {
      "cell_type": "code",
      "source": [
        "model_3 = VARMAX(df_diff_dev, order = (7,6))\n",
        "res_3 = model_3.fit()\n",
        "print(res_3.mse)"
      ],
      "metadata": {
        "id": "SYulfubWvzJm",
        "colab": {
          "base_uri": "https://localhost:8080/"
        },
        "outputId": "ffc17dde-8c02-4ae1-b2ed-c98eb8c25633"
      },
      "execution_count": null,
      "outputs": [
        {
          "output_type": "stream",
          "name": "stdout",
          "text": [
            "1234113.883283453\n"
          ]
        }
      ]
    },
    {
      "cell_type": "markdown",
      "source": [
        "VARMAX(7,6) has the best performance. Do the forcasting day by day."
      ],
      "metadata": {
        "id": "GUefvFE2v8o3"
      }
    },
    {
      "cell_type": "code",
      "source": [
        "# Setup forecasts\n",
        "nforecasts = 1\n",
        "forecasts = {}\n",
        "\n",
        "# Get the number of initial training observations\n",
        "nobs = len(df_diff)\n",
        "n_init_training = len(df_diff_dev)\n",
        "\n",
        "# # Create model for initial training sample, fit parameters\n",
        "init_training_endog = df_diff.iloc[:n_init_training]\n",
        "mod = VARMAX(df_diff_dev, order=(7,6))\n",
        "res = mod.fit()\n",
        "\n",
        "# Save initial forecast\n",
        "forecasts[df_diff_dev.index[-1]] = res.forecast(steps=nforecasts)\n",
        "\n",
        "# Step through the rest of the sample\n",
        "for t in range(n_init_training, nobs):\n",
        "    # Update the results by appending the next observation\n",
        "    updated_endog = df_diff.iloc[t:t+1]\n",
        "    res = res.append(updated_endog, refit=False)\n",
        "\n",
        "    # Save the new set of forecasts\n",
        "    forecasts[updated_endog.index[0]] = res.forecast(steps=nforecasts)"
      ],
      "metadata": {
        "id": "wSQNd82Sv7zg"
      },
      "execution_count": null,
      "outputs": []
    },
    {
      "cell_type": "markdown",
      "source": [
        "Show the forcasting result."
      ],
      "metadata": {
        "id": "N1Hz-ZRDwVuy"
      }
    },
    {
      "cell_type": "code",
      "source": [
        "df_new = df_dev[['btc']].join(pd.concat(forecasts, axis=0).reset_index().drop(columns = 'level_0')[['level_1', 'btc']].set_index('level_1'), rsuffix='diffforecast', how='outer')\n",
        "df_new.loc[split_point-1,'btcdiffforecast'] = df_new.loc[split_point-1,'btc']\n",
        "df_new['cumsum'] = df_new['btcdiffforecast'].cumsum()\n",
        "df_new.fillna(0, inplace=True)\n",
        "df_varmaxpred = pd.DataFrame(df_new['btc'] + df_new['cumsum'])\n",
        "df_varmaxpred.iloc[split_point-1,0] = df_varmaxpred.iloc[split_point-1,0]/2\n"
      ],
      "metadata": {
        "id": "C147SKdJwUXu"
      },
      "execution_count": null,
      "outputs": []
    },
    {
      "cell_type": "code",
      "source": [
        "mean_squared_error(df_test['btc'], df_varmaxpred[split_point:], squared=False)"
      ],
      "metadata": {
        "id": "JY2VIsGYxlWF",
        "colab": {
          "base_uri": "https://localhost:8080/"
        },
        "outputId": "c77bd4a6-8e21-4c29-af2c-bc9c2954d21d"
      },
      "execution_count": null,
      "outputs": [
        {
          "output_type": "execute_result",
          "data": {
            "text/plain": [
              "32152.868512015353"
            ]
          },
          "metadata": {},
          "execution_count": 31
        }
      ]
    },
    {
      "cell_type": "markdown",
      "source": [
        "We can see that the prediction results of VARMAX model in the test data are very poor, which even got an opposite trend to the actual values. We consider that if there are too many external interference factors added to the model. In this case, we try to predict with the simplest ARIMA model and only rely on past Bitcion price."
      ],
      "metadata": {
        "id": "OBBV_zafxmXb"
      }
    },
    {
      "cell_type": "markdown",
      "source": [
        "#### ARIMA model"
      ],
      "metadata": {
        "id": "UDvAxJK7xMK-"
      }
    },
    {
      "cell_type": "markdown",
      "source": [
        "Here we still use auto-Arima to get the best hyperparameters."
      ],
      "metadata": {
        "id": "5lLHHMMczJTm"
      }
    },
    {
      "cell_type": "code",
      "source": [
        "arima_model_btc = auto_arima(df_dev['btc'], start_p=1, start_q=1, start_P=1, start_Q=1,\n",
        "                     max_p=5, max_q=5, max_P=5, max_Q=5, seasonal=False,\n",
        "                     stepwise=True, suppress_warnings=True, D=10, max_D=10,\n",
        "                     error_action='ignore')"
      ],
      "metadata": {
        "id": "IqAnQCWszAra"
      },
      "execution_count": null,
      "outputs": []
    },
    {
      "cell_type": "code",
      "source": [
        "arima_model_btc.summary()"
      ],
      "metadata": {
        "id": "0ublzPn1zGcu",
        "colab": {
          "base_uri": "https://localhost:8080/",
          "height": 381
        },
        "outputId": "6ce76fbe-d993-4183-941d-0a357bb21c3f"
      },
      "execution_count": null,
      "outputs": [
        {
          "output_type": "execute_result",
          "data": {
            "text/plain": [
              "<class 'statsmodels.iolib.summary.Summary'>\n",
              "\"\"\"\n",
              "                               SARIMAX Results                                \n",
              "==============================================================================\n",
              "Dep. Variable:                      y   No. Observations:                 1019\n",
              "Model:               SARIMAX(0, 1, 0)   Log Likelihood               -8632.471\n",
              "Date:                Mon, 05 Dec 2022   AIC                          17266.943\n",
              "Time:                        06:58:09   BIC                          17271.868\n",
              "Sample:                             0   HQIC                         17268.813\n",
              "                               - 1019                                         \n",
              "Covariance Type:                  opg                                         \n",
              "==============================================================================\n",
              "                 coef    std err          z      P>|z|      [0.025      0.975]\n",
              "------------------------------------------------------------------------------\n",
              "sigma2      1.357e+06   2.49e+04     54.498      0.000    1.31e+06    1.41e+06\n",
              "===================================================================================\n",
              "Ljung-Box (L1) (Q):                   0.79   Jarque-Bera (JB):              3992.34\n",
              "Prob(Q):                              0.38   Prob(JB):                         0.00\n",
              "Heteroskedasticity (H):              13.12   Skew:                            -0.13\n",
              "Prob(H) (two-sided):                  0.00   Kurtosis:                        12.70\n",
              "===================================================================================\n",
              "\n",
              "Warnings:\n",
              "[1] Covariance matrix calculated using the outer product of gradients (complex-step).\n",
              "\"\"\""
            ],
            "text/html": [
              "<table class=\"simpletable\">\n",
              "<caption>SARIMAX Results</caption>\n",
              "<tr>\n",
              "  <th>Dep. Variable:</th>           <td>y</td>        <th>  No. Observations:  </th>   <td>1019</td>   \n",
              "</tr>\n",
              "<tr>\n",
              "  <th>Model:</th>           <td>SARIMAX(0, 1, 0)</td> <th>  Log Likelihood     </th> <td>-8632.471</td>\n",
              "</tr>\n",
              "<tr>\n",
              "  <th>Date:</th>            <td>Mon, 05 Dec 2022</td> <th>  AIC                </th> <td>17266.943</td>\n",
              "</tr>\n",
              "<tr>\n",
              "  <th>Time:</th>                <td>06:58:09</td>     <th>  BIC                </th> <td>17271.868</td>\n",
              "</tr>\n",
              "<tr>\n",
              "  <th>Sample:</th>                  <td>0</td>        <th>  HQIC               </th> <td>17268.813</td>\n",
              "</tr>\n",
              "<tr>\n",
              "  <th></th>                      <td> - 1019</td>     <th>                     </th>     <td> </td>    \n",
              "</tr>\n",
              "<tr>\n",
              "  <th>Covariance Type:</th>        <td>opg</td>       <th>                     </th>     <td> </td>    \n",
              "</tr>\n",
              "</table>\n",
              "<table class=\"simpletable\">\n",
              "<tr>\n",
              "     <td></td>       <th>coef</th>     <th>std err</th>      <th>z</th>      <th>P>|z|</th>  <th>[0.025</th>    <th>0.975]</th>  \n",
              "</tr>\n",
              "<tr>\n",
              "  <th>sigma2</th> <td> 1.357e+06</td> <td> 2.49e+04</td> <td>   54.498</td> <td> 0.000</td> <td> 1.31e+06</td> <td> 1.41e+06</td>\n",
              "</tr>\n",
              "</table>\n",
              "<table class=\"simpletable\">\n",
              "<tr>\n",
              "  <th>Ljung-Box (L1) (Q):</th>     <td>0.79</td>  <th>  Jarque-Bera (JB):  </th> <td>3992.34</td>\n",
              "</tr>\n",
              "<tr>\n",
              "  <th>Prob(Q):</th>                <td>0.38</td>  <th>  Prob(JB):          </th>  <td>0.00</td>  \n",
              "</tr>\n",
              "<tr>\n",
              "  <th>Heteroskedasticity (H):</th> <td>13.12</td> <th>  Skew:              </th>  <td>-0.13</td> \n",
              "</tr>\n",
              "<tr>\n",
              "  <th>Prob(H) (two-sided):</th>    <td>0.00</td>  <th>  Kurtosis:          </th>  <td>12.70</td> \n",
              "</tr>\n",
              "</table><br/><br/>Warnings:<br/>[1] Covariance matrix calculated using the outer product of gradients (complex-step)."
            ]
          },
          "metadata": {},
          "execution_count": 33
        }
      ]
    },
    {
      "cell_type": "markdown",
      "source": [
        "Forcast day by day."
      ],
      "metadata": {
        "id": "-eScMKc0zWIN"
      }
    },
    {
      "cell_type": "code",
      "source": [
        "# Setup forecasts\n",
        "nforecasts = 1\n",
        "forecasts = {}\n",
        "\n",
        "# Get the number of initial training observations\n",
        "nobs = len(df_arima)\n",
        "n_init_training = len(df_dev)\n",
        "\n",
        "# # Create model for initial training sample, fit parameters\n",
        "init_training_endog = df_arima['btc'].iloc[:n_init_training]\n",
        "mod = ARIMA(df_dev['btc'], order=(0,1,0))\n",
        "res = mod.fit()\n",
        "\n",
        "# Save initial forecast\n",
        "forecasts[df_dev['btc'].index[-1]] = res.forecast(steps=nforecasts)\n",
        "\n",
        "# Step through the rest of the sample\n",
        "for t in range(n_init_training, nobs):\n",
        "    # Update the results by appending the next observation\n",
        "    updated_endog = df_arima['btc'].iloc[t:t+1]\n",
        "    res = res.append(updated_endog, refit=False)\n",
        "\n",
        "    # Save the new set of forecasts\n",
        "    forecasts[updated_endog.index[0]] = res.forecast(steps=nforecasts)\n"
      ],
      "metadata": {
        "id": "zn0EsKr4zVYR"
      },
      "execution_count": null,
      "outputs": []
    },
    {
      "cell_type": "code",
      "source": [
        "btc_arima = pd.concat([df_dev['btc'], pd.DataFrame(pd.concat(forecasts, axis=0)).reset_index().drop(columns = 'level_0').set_index('level_1')])"
      ],
      "metadata": {
        "id": "z6DTdISazkHr"
      },
      "execution_count": null,
      "outputs": []
    },
    {
      "cell_type": "markdown",
      "source": [],
      "metadata": {
        "id": "yF1xpGotxRJk"
      }
    },
    {
      "cell_type": "code",
      "source": [
        "mean_squared_error(df_test['btc'], btc_arima[split_point:-1], squared=False)"
      ],
      "metadata": {
        "id": "0j-iFj9gxLKd",
        "colab": {
          "base_uri": "https://localhost:8080/"
        },
        "outputId": "ac04cc97-59f9-4f55-97d7-0fcab4b56c20"
      },
      "execution_count": null,
      "outputs": [
        {
          "output_type": "execute_result",
          "data": {
            "text/plain": [
              "1332.2460057782291"
            ]
          },
          "metadata": {},
          "execution_count": 36
        }
      ]
    },
    {
      "cell_type": "markdown",
      "source": [
        "### XGBoost"
      ],
      "metadata": {
        "id": "G9V4aRwPNAvI"
      }
    },
    {
      "cell_type": "markdown",
      "source": [
        "As we are using XGBoost to train a time series model, we need to manipulate the dataset. First thing to do is adding a time difference column compared to the first day of the dataset(time_diff), because XGBoost doesn't automatically consider the time. Then, since we are predicting the next day's price of Bitcoin, our dataset should be the previous day's dataset including 'bnb', 'eth', 'btc', 'usd', 'blockchain', 'tweets', 'cb', and adding another today's Bitcoin price column(btc_today). After the feature selection, we will keep the X features as: ['eth', 'btc', 'time_diff', 'blockchain'], and the Y feature as 'btc_today'.\n",
        " \n",
        "For the time series dataset, we will split the train test dataset in 0.8:0.2 based on the time. Then we scale the dataset using MinMax scale, following with the fit and transform of the data. We are using XGBRegressor because the target variables are continuous numbers. For tuning the hyperparameters, we are tuning 'max_leaves', 'n_estimators', 'subsample', and 'max_depth'."
      ],
      "metadata": {
        "id": "u5Ex_HE24Hx6"
      }
    },
    {
      "cell_type": "code",
      "source": [
        "df_xgb = df_og.copy()\n",
        "df_xgb['time_diff'] = range(0, len(df_xgb))\n",
        "df_xgb['btc_today'] = df_xgb['btc'].shift(-1)\n",
        "df_xgb = df_xgb[:-1]"
      ],
      "metadata": {
        "id": "NabKJmtZj7wb"
      },
      "execution_count": null,
      "outputs": []
    },
    {
      "cell_type": "code",
      "source": [
        "df_xgb_X = df_xgb[['eth','btc', 'time_diff', 'blockchain']]\n",
        "df_xgb_y = df_xgb['btc_today']"
      ],
      "metadata": {
        "id": "TRT7Z1VceHG5"
      },
      "execution_count": null,
      "outputs": []
    },
    {
      "cell_type": "code",
      "source": [
        "dev_X_xgb = df_xgb_X[:int(len(df_xgb_X)*0.8)]\n",
        "test_X_xgb = df_xgb_X[int(len(df_xgb_X)*0.8):]\n",
        "dev_y_xgb = df_xgb_y[:int(len(df_xgb_y)*0.8)]\n",
        "test_y_xgb = df_xgb_y[int(len(df_xgb_y)*0.8):]"
      ],
      "metadata": {
        "id": "z6HT-BTrfi99"
      },
      "execution_count": null,
      "outputs": []
    },
    {
      "cell_type": "code",
      "source": [
        "scaler = MinMaxScaler(feature_range=(0,1))\n",
        "\n",
        "dev_X_transformed_xgb = scaler.fit_transform(dev_X_xgb)\n",
        "test_X_transformed_xgb = scaler.transform(test_X_xgb)"
      ],
      "metadata": {
        "id": "ZmU0wWjCf63G"
      },
      "execution_count": null,
      "outputs": []
    },
    {
      "cell_type": "code",
      "source": [
        "# XGB\n",
        "\n",
        "param_grid_xgb = {\n",
        "                'max_leaves': [1, 3, 5, 7],\n",
        "                'n_estimators': [100, 300, 500], \n",
        "                'subsample': [0.5, 0.7, 1],\n",
        "                'max_depth': [2, 4, 6],\n",
        "             }\n",
        "\n",
        "xgb_svm = XGBRegressor(random_state=100, objective ='reg:squarederror')\n",
        "\n",
        "grid_clf_xgb = GridSearchCV(xgb_svm, param_grid_xgb, cv=10)\n",
        "grid_clf_xgb.fit(dev_X_transformed_xgb, dev_y_xgb)\n",
        "\n",
        "y_pred_xgb = grid_clf_xgb.predict(test_X_transformed_xgb)\n",
        "\n",
        "print('estimator:', grid_clf_xgb.best_estimator_)\n",
        "print('params:', grid_clf_xgb.best_params_)\n",
        "\n",
        "rmse_xgb = mean_squared_error(test_y_xgb, y_pred_xgb, squared=False)\n",
        "print(rmse_xgb)\n",
        "mape_xgb = mean_absolute_percentage_error(test_y_xgb, y_pred_xgb)\n",
        "print(mape_xgb)"
      ],
      "metadata": {
        "id": "e0ZtEdWEf86A",
        "colab": {
          "base_uri": "https://localhost:8080/"
        },
        "outputId": "4ffec957-053e-4f95-8fbb-d67fadda3452"
      },
      "execution_count": null,
      "outputs": [
        {
          "output_type": "stream",
          "name": "stdout",
          "text": [
            "estimator: XGBRegressor(max_depth=2, max_leaves=1, objective='reg:squarederror',\n",
            "             random_state=100, subsample=0.7)\n",
            "params: {'max_depth': 2, 'max_leaves': 1, 'n_estimators': 100, 'subsample': 0.7}\n",
            "2994.6619546328834\n",
            "0.10622799995250949\n"
          ]
        }
      ]
    },
    {
      "cell_type": "markdown",
      "source": [
        "###  LSTM"
      ],
      "metadata": {
        "id": "igGJqxBxNDLA"
      }
    },
    {
      "cell_type": "markdown",
      "source": [
        "For the LSTM model, we use two layers of LSTM. The input layer depends on the input size of the feature vector. If we use 30 day time series data and 3 features, it would be a (30, 3) vector input.\n",
        "\n",
        "For the activation layer, we use the Sigmoid function. Since we will predict a positive value in the previous (min, max) range, so we have to map the output value to a (0, 1) range. The Sigmoid function is such a function that could deal with this case.\n",
        "\n",
        "The model is trained as followed:"
      ],
      "metadata": {
        "id": "T2HDVZwlghZ3"
      }
    },
    {
      "cell_type": "markdown",
      "source": [
        "![](https://drive.google.com/uc?export=view&id=)"
      ],
      "metadata": {
        "id": "GprXD3_D_MaB"
      }
    },
    {
      "cell_type": "markdown",
      "source": [
        "![](https://drive.google.com/uc?export=view&id=11vRXWf_eYWFoynZuV1wzBuH22rqbAVog)"
      ],
      "metadata": {
        "id": "yraLGx7dJv2q"
      }
    },
    {
      "cell_type": "markdown",
      "source": [
        "<img src=''>"
      ],
      "metadata": {
        "id": "GYhLBbrklSx5"
      }
    },
    {
      "cell_type": "code",
      "source": [
        "def get_model(input_size, num_features):\n",
        "    model = keras.Sequential()\n",
        "    model.add(layers.LSTM(100, return_sequences=True, input_shape=(input_size, num_features)))\n",
        "    model.add(layers.LSTM(100, return_sequences=False))\n",
        "    model.add(layers.Dense(25))\n",
        "    model.add(layers.Dense(1, activation=activations.sigmoid))\n",
        "    return model"
      ],
      "metadata": {
        "id": "du-mpfXUrvcI"
      },
      "execution_count": null,
      "outputs": []
    },
    {
      "cell_type": "code",
      "source": [
        "def train_model(dataset_origin, time_seq_len, epochs):\n",
        "    x_train, y_train, x_test, y_test, btc_scaler = prepare_dataset_for_lstm(dataset_origin, time_seq_len, 0.8)\n",
        "    model = get_model(x_train.shape[1], 3)\n",
        "    \n",
        "    model.compile(optimizer='adam', loss='mean_squared_error')\n",
        "    history_callback = model.fit(x_train, y_train, batch_size= 1, epochs=epochs)\n",
        "\n",
        "    predictions = model.predict(x_test)\n",
        "    predictions = btc_scaler.inverse_transform(predictions)\n",
        "    rmse = np.sqrt(np.mean(predictions - y_test)**2)\n",
        "    return model, history_callback, predictions, rmse"
      ],
      "metadata": {
        "id": "w85VIZkFq0cV"
      },
      "execution_count": null,
      "outputs": []
    },
    {
      "cell_type": "code",
      "source": [
        "model_30d, history_callback_30d, predictions_30d, rmse_30d = train_model(df_og, 30, 20)\n",
        "print(model_30d.summary())\n",
        "print(rmse_30d)"
      ],
      "metadata": {
        "colab": {
          "base_uri": "https://localhost:8080/"
        },
        "id": "P2egZQUVsNrl",
        "outputId": "7ae410e7-ec0d-4a08-a8ec-415de863d675"
      },
      "execution_count": null,
      "outputs": [
        {
          "output_type": "stream",
          "name": "stdout",
          "text": [
            "Epoch 1/20\n",
            "990/990 [==============================] - 22s 19ms/step - loss: 0.0643\n",
            "Epoch 2/20\n",
            "990/990 [==============================] - 20s 20ms/step - loss: 0.0087\n",
            "Epoch 3/20\n",
            "990/990 [==============================] - 19s 19ms/step - loss: 0.0072\n",
            "Epoch 4/20\n",
            "990/990 [==============================] - 19s 19ms/step - loss: 0.0066\n",
            "Epoch 5/20\n",
            "990/990 [==============================] - 19s 19ms/step - loss: 0.0070\n",
            "Epoch 6/20\n",
            "990/990 [==============================] - 19s 20ms/step - loss: 0.0066\n",
            "Epoch 7/20\n",
            "990/990 [==============================] - 19s 19ms/step - loss: 0.0069\n",
            "Epoch 8/20\n",
            "990/990 [==============================] - 19s 20ms/step - loss: 0.0154\n",
            "Epoch 9/20\n",
            "990/990 [==============================] - 19s 19ms/step - loss: 0.0067\n",
            "Epoch 10/20\n",
            "990/990 [==============================] - 18s 19ms/step - loss: 0.0063\n",
            "Epoch 11/20\n",
            "990/990 [==============================] - 19s 19ms/step - loss: 0.0067\n",
            "Epoch 12/20\n",
            "990/990 [==============================] - 19s 19ms/step - loss: 0.0061\n",
            "Epoch 13/20\n",
            "990/990 [==============================] - 19s 19ms/step - loss: 0.0060\n",
            "Epoch 14/20\n",
            "990/990 [==============================] - 19s 19ms/step - loss: 0.0064\n",
            "Epoch 15/20\n",
            "990/990 [==============================] - 19s 19ms/step - loss: 0.0056\n",
            "Epoch 16/20\n",
            "990/990 [==============================] - 20s 20ms/step - loss: 0.0055\n",
            "Epoch 17/20\n",
            "990/990 [==============================] - 18s 19ms/step - loss: 0.0064\n",
            "Epoch 18/20\n",
            "990/990 [==============================] - 21s 21ms/step - loss: 0.0063\n",
            "Epoch 19/20\n",
            "990/990 [==============================] - 19s 19ms/step - loss: 0.0062\n",
            "Epoch 20/20\n",
            "990/990 [==============================] - 19s 19ms/step - loss: 0.0046\n",
            "8/8 [==============================] - 1s 19ms/step\n",
            "Model: \"sequential_1\"\n",
            "_________________________________________________________________\n",
            " Layer (type)                Output Shape              Param #   \n",
            "=================================================================\n",
            " lstm_2 (LSTM)               (None, 30, 100)           41600     \n",
            "                                                                 \n",
            " lstm_3 (LSTM)               (None, 100)               80400     \n",
            "                                                                 \n",
            " dense_2 (Dense)             (None, 25)                2525      \n",
            "                                                                 \n",
            " dense_3 (Dense)             (None, 1)                 26        \n",
            "                                                                 \n",
            "=================================================================\n",
            "Total params: 124,551\n",
            "Trainable params: 124,551\n",
            "Non-trainable params: 0\n",
            "_________________________________________________________________\n",
            "None\n",
            "7501.8774220876\n"
          ]
        }
      ]
    },
    {
      "cell_type": "code",
      "source": [
        "model_45d, history_callback_45d, predictions_45d, rmse_45d = train_model(df_og, 45, 20)\n",
        "print(model_45d.summary())\n",
        "print(rmse_45d)"
      ],
      "metadata": {
        "colab": {
          "base_uri": "https://localhost:8080/"
        },
        "id": "pFBGUAmZxzkh",
        "outputId": "e8fab9ae-d72d-49a4-c5d3-c7a8466bd694"
      },
      "execution_count": null,
      "outputs": [
        {
          "output_type": "stream",
          "name": "stdout",
          "text": [
            "Epoch 1/20\n",
            "975/975 [==============================] - 30s 28ms/step - loss: 0.0401\n",
            "Epoch 2/20\n",
            "975/975 [==============================] - 27s 28ms/step - loss: 0.0098\n",
            "Epoch 3/20\n",
            "975/975 [==============================] - 27s 28ms/step - loss: 0.0277\n",
            "Epoch 4/20\n",
            "975/975 [==============================] - 27s 28ms/step - loss: 0.0125\n",
            "Epoch 5/20\n",
            "975/975 [==============================] - 27s 27ms/step - loss: 0.0098\n",
            "Epoch 6/20\n",
            "975/975 [==============================] - 27s 27ms/step - loss: 0.0077\n",
            "Epoch 7/20\n",
            "975/975 [==============================] - 27s 28ms/step - loss: 0.0098\n",
            "Epoch 8/20\n",
            "975/975 [==============================] - 27s 28ms/step - loss: 0.0155\n",
            "Epoch 9/20\n",
            "975/975 [==============================] - 28s 29ms/step - loss: 0.0078\n",
            "Epoch 10/20\n",
            "975/975 [==============================] - 27s 28ms/step - loss: 0.0064\n",
            "Epoch 11/20\n",
            "975/975 [==============================] - 27s 28ms/step - loss: 0.0064\n",
            "Epoch 12/20\n",
            "975/975 [==============================] - 27s 28ms/step - loss: 0.0069\n",
            "Epoch 13/20\n",
            "975/975 [==============================] - 27s 28ms/step - loss: 0.0060\n",
            "Epoch 14/20\n",
            "975/975 [==============================] - 27s 28ms/step - loss: 0.0053\n",
            "Epoch 15/20\n",
            "975/975 [==============================] - 27s 28ms/step - loss: 0.0041\n",
            "Epoch 16/20\n",
            "975/975 [==============================] - 27s 28ms/step - loss: 0.0039\n",
            "Epoch 17/20\n",
            "975/975 [==============================] - 27s 28ms/step - loss: 0.0042\n",
            "Epoch 18/20\n",
            "975/975 [==============================] - 28s 29ms/step - loss: 0.0042\n",
            "Epoch 19/20\n",
            "975/975 [==============================] - 27s 28ms/step - loss: 0.0026\n",
            "Epoch 20/20\n",
            "975/975 [==============================] - 27s 28ms/step - loss: 0.0020\n",
            "8/8 [==============================] - 1s 25ms/step\n",
            "Model: \"sequential_3\"\n",
            "_________________________________________________________________\n",
            " Layer (type)                Output Shape              Param #   \n",
            "=================================================================\n",
            " lstm_6 (LSTM)               (None, 45, 100)           41600     \n",
            "                                                                 \n",
            " lstm_7 (LSTM)               (None, 100)               80400     \n",
            "                                                                 \n",
            " dense_6 (Dense)             (None, 25)                2525      \n",
            "                                                                 \n",
            " dense_7 (Dense)             (None, 1)                 26        \n",
            "                                                                 \n",
            "=================================================================\n",
            "Total params: 124,551\n",
            "Trainable params: 124,551\n",
            "Non-trainable params: 0\n",
            "_________________________________________________________________\n",
            "None\n",
            "165.0920197746066\n"
          ]
        }
      ]
    },
    {
      "cell_type": "code",
      "source": [
        "model_60d, history_callback_60d, predictions_60d, rmse_60d = train_model(df_og, 60, 20)\n",
        "print(model_60d.summary())\n",
        "print(rmse_60d)"
      ],
      "metadata": {
        "colab": {
          "base_uri": "https://localhost:8080/"
        },
        "id": "qw8JInmt0CrX",
        "outputId": "96dc0c82-6c76-4a3e-eaaf-6b179c311548"
      },
      "execution_count": null,
      "outputs": [
        {
          "output_type": "stream",
          "name": "stdout",
          "text": [
            "Epoch 1/20\n",
            "960/960 [==============================] - 35s 34ms/step - loss: 0.0561\n",
            "Epoch 2/20\n",
            "960/960 [==============================] - 32s 34ms/step - loss: 0.0500\n",
            "Epoch 3/20\n",
            "960/960 [==============================] - 32s 33ms/step - loss: 0.0132\n",
            "Epoch 4/20\n",
            "960/960 [==============================] - 34s 35ms/step - loss: 0.0097\n",
            "Epoch 5/20\n",
            "960/960 [==============================] - 32s 34ms/step - loss: 0.0088\n",
            "Epoch 6/20\n",
            "960/960 [==============================] - 32s 34ms/step - loss: 0.0093\n",
            "Epoch 7/20\n",
            "960/960 [==============================] - 32s 34ms/step - loss: 0.0067\n",
            "Epoch 8/20\n",
            "960/960 [==============================] - 32s 34ms/step - loss: 0.0093\n",
            "Epoch 9/20\n",
            "960/960 [==============================] - 32s 34ms/step - loss: 0.0070\n",
            "Epoch 10/20\n",
            "960/960 [==============================] - 32s 34ms/step - loss: 0.0063\n",
            "Epoch 11/20\n",
            "960/960 [==============================] - 34s 35ms/step - loss: 0.0062\n",
            "Epoch 12/20\n",
            "960/960 [==============================] - 32s 34ms/step - loss: 0.0083\n",
            "Epoch 13/20\n",
            "960/960 [==============================] - 32s 34ms/step - loss: 0.0064\n",
            "Epoch 14/20\n",
            "960/960 [==============================] - 32s 34ms/step - loss: 0.0062\n",
            "Epoch 15/20\n",
            "960/960 [==============================] - 32s 34ms/step - loss: 0.0057\n",
            "Epoch 16/20\n",
            "960/960 [==============================] - 33s 34ms/step - loss: 0.0070\n",
            "Epoch 17/20\n",
            "960/960 [==============================] - 32s 34ms/step - loss: 0.0148\n",
            "Epoch 18/20\n",
            "960/960 [==============================] - 32s 34ms/step - loss: 0.0077\n",
            "Epoch 19/20\n",
            "960/960 [==============================] - 34s 35ms/step - loss: 0.0059\n",
            "Epoch 20/20\n",
            "960/960 [==============================] - 32s 34ms/step - loss: 0.0059\n",
            "8/8 [==============================] - 1s 30ms/step\n",
            "Model: \"sequential_6\"\n",
            "_________________________________________________________________\n",
            " Layer (type)                Output Shape              Param #   \n",
            "=================================================================\n",
            " lstm_12 (LSTM)              (None, 60, 100)           41600     \n",
            "                                                                 \n",
            " lstm_13 (LSTM)              (None, 100)               80400     \n",
            "                                                                 \n",
            " dense_12 (Dense)            (None, 25)                2525      \n",
            "                                                                 \n",
            " dense_13 (Dense)            (None, 1)                 26        \n",
            "                                                                 \n",
            "=================================================================\n",
            "Total params: 124,551\n",
            "Trainable params: 124,551\n",
            "Non-trainable params: 0\n",
            "_________________________________________________________________\n",
            "None\n",
            "12962.884260137427\n"
          ]
        }
      ]
    },
    {
      "cell_type": "markdown",
      "source": [
        "## Evaluation"
      ],
      "metadata": {
        "id": "2NQfHfb3Mkir"
      }
    },
    {
      "cell_type": "markdown",
      "source": [
        "### ARIMA"
      ],
      "metadata": {
        "id": "AJ5_dyT2uFLB"
      }
    },
    {
      "cell_type": "markdown",
      "source": [
        "VARMAX"
      ],
      "metadata": {
        "id": "AZAs6r-KztcZ"
      }
    },
    {
      "cell_type": "code",
      "source": [
        "plt.plot(df_arima['btc'])\n",
        "plt.plot(df_varmaxpred)"
      ],
      "metadata": {
        "id": "ojmqUERmzyyI",
        "colab": {
          "base_uri": "https://localhost:8080/",
          "height": 284
        },
        "outputId": "d0788769-f9f7-4ec6-f572-8559edfa19f3"
      },
      "execution_count": null,
      "outputs": [
        {
          "output_type": "execute_result",
          "data": {
            "text/plain": [
              "[<matplotlib.lines.Line2D at 0x7fa80046b610>]"
            ]
          },
          "metadata": {},
          "execution_count": 37
        },
        {
          "output_type": "display_data",
          "data": {
            "text/plain": [
              "<Figure size 432x288 with 1 Axes>"
            ],
            "image/png": "[encoded data removed]"
          },
          "metadata": {
            "needs_background": "light"
          }
        }
      ]
    },
    {
      "cell_type": "code",
      "source": [
        "mean_squared_error(df_test['btc'], df_varmaxpred[split_point:], squared=False)"
      ],
      "metadata": {
        "id": "aD5CsdzC0Emu",
        "colab": {
          "base_uri": "https://localhost:8080/"
        },
        "outputId": "e6e9c65b-b148-4c54-e0dc-3fad88e58a83"
      },
      "execution_count": null,
      "outputs": [
        {
          "output_type": "execute_result",
          "data": {
            "text/plain": [
              "32152.868512015353"
            ]
          },
          "metadata": {},
          "execution_count": 38
        }
      ]
    },
    {
      "cell_type": "markdown",
      "source": [
        "simple ARIMA"
      ],
      "metadata": {
        "id": "EUXNHqOKzvby"
      }
    },
    {
      "cell_type": "code",
      "source": [
        "plt.plot(df_arima['btc'])\n",
        "plt.plot(btc_arima)"
      ],
      "metadata": {
        "id": "UTXUL2Hozqq5",
        "colab": {
          "base_uri": "https://localhost:8080/",
          "height": 284
        },
        "outputId": "a758e076-630f-4368-cce1-697bc5ca00da"
      },
      "execution_count": null,
      "outputs": [
        {
          "output_type": "execute_result",
          "data": {
            "text/plain": [
              "[<matplotlib.lines.Line2D at 0x7fa802af92e0>]"
            ]
          },
          "metadata": {},
          "execution_count": 39
        },
        {
          "output_type": "display_data",
          "data": {
            "text/plain": [
              "<Figure size 432x288 with 1 Axes>"
            ],
            "image/png": "[encoded data removed]"
          },
          "metadata": {
            "needs_background": "light"
          }
        }
      ]
    },
    {
      "cell_type": "code",
      "source": [
        "mean_squared_error(df_test['btc'], btc_arima[split_point:-1], squared=False)"
      ],
      "metadata": {
        "id": "mRpV4QYrzzf4",
        "colab": {
          "base_uri": "https://localhost:8080/"
        },
        "outputId": "8bbeacd8-62cb-4e3c-ffb7-c8ff241560f2"
      },
      "execution_count": null,
      "outputs": [
        {
          "output_type": "execute_result",
          "data": {
            "text/plain": [
              "1332.2460057782291"
            ]
          },
          "metadata": {},
          "execution_count": 40
        }
      ]
    },
    {
      "cell_type": "markdown",
      "source": [
        "In the VARMAX model, we used yesterday's price to predict tomorrow's price. But this model considered many extraneoous factors which influenced this model to cause a negative trend with the actual trend. But in the simple ARIMA model, it still used one day's price to predict another day. Although it gives a strong predicting performance, this model gives tiny actual reference values due to the data selection."
      ],
      "metadata": {
        "id": "vlT8t52KH4z_"
      }
    },
    {
      "cell_type": "markdown",
      "source": [
        "### XGBoost"
      ],
      "metadata": {
        "id": "L-hX6CituRzt"
      }
    },
    {
      "cell_type": "code",
      "source": [
        "rmse_xgb = mean_squared_error(test_y_xgb, y_pred_xgb, squared=False)\n",
        "print(rmse_xgb)\n",
        "mape_xgb = mean_absolute_percentage_error(test_y_xgb, y_pred_xgb)\n",
        "print(mape_xgb)"
      ],
      "metadata": {
        "colab": {
          "base_uri": "https://localhost:8080/"
        },
        "id": "GUPPBqhN60iV",
        "outputId": "6432f91e-1497-4c15-8f2f-c55274617ec7"
      },
      "execution_count": null,
      "outputs": [
        {
          "output_type": "stream",
          "name": "stdout",
          "text": [
            "2994.6619546328834\n",
            "0.10622799995250949\n"
          ]
        }
      ]
    },
    {
      "cell_type": "code",
      "source": [
        "l_b = int(len(df_xgb_X)*0.8)\n",
        "r_b = len(df_xgb_X)\n",
        "a_list = list(range(l_b, r_b))\n",
        "\n",
        "f, ax = plt.subplots(1, figsize=(20, 8))\n",
        "plt.plot(df_xgb['Date'], np.concatenate((dev_y_xgb.values, y_pred_xgb)), label = 'predict_y', color = 'green')\n",
        "plt.plot(df_xgb['Date'], dev_y_xgb.append(test_y_xgb), label = 'actual_y', color = 'orange')\n",
        "ax.plot(df_xgb['Date'][:1018], dev_y_xgb, label = 'dev_X', color = 'blue')\n",
        "ax.set_ylim(bottom=0)\n",
        "ax.set_xlim(left=0)\n",
        "ax.set_xlabel('Date')\n",
        "ax.set_ylabel('Adjusted Close Bitcoin Price ($)')\n",
        "ax.set_xticks(ax.get_xticks()[::100])\n",
        "plt.legend()\n",
        "plt.title('XGBoost - Prediction')\n",
        "plt.show()"
      ],
      "metadata": {
        "id": "P0UhU0NugAT4",
        "colab": {
          "base_uri": "https://localhost:8080/",
          "height": 513
        },
        "outputId": "d1b1367a-e776-4702-e948-ce55a786f3a6"
      },
      "execution_count": null,
      "outputs": [
        {
          "output_type": "display_data",
          "data": {
            "text/plain": [
              "<Figure size 1440x576 with 1 Axes>"
            ],
            "image/png": "[encoded data removed]"
          },
          "metadata": {
            "needs_background": "light"
          }
        }
      ]
    },
    {
      "cell_type": "code",
      "source": [
        "l_b = int(len(df_xgb_X)*0.8)\n",
        "r_b = len(df_xgb_X)\n",
        "a_list = list(range(l_b, r_b))\n",
        "\n",
        "plt.plot(a_list, test_y_xgb, label = 'actual', color = 'blue')\n",
        "plt.plot(a_list, y_pred_xgb, label = 'predict', color = 'orange')\n",
        "ax.set_xlabel('Date')\n",
        "ax.set_ylabel('Adjusted Close Bitcoin Price ($)')\n",
        "plt.title('XGBoost - Prediction, Test Portion')\n",
        "plt.xlim([l_b, r_b])\n",
        "plt.legend()\n",
        "plt.show()"
      ],
      "metadata": {
        "colab": {
          "base_uri": "https://localhost:8080/",
          "height": 281
        },
        "id": "E0yN3gGEnypu",
        "outputId": "6bd0a7a9-d332-48c2-9c20-af5f7d72783a"
      },
      "execution_count": null,
      "outputs": [
        {
          "output_type": "display_data",
          "data": {
            "text/plain": [
              "<Figure size 432x288 with 1 Axes>"
            ],
            "image/png": "[encoded data removed]"
          },
          "metadata": {
            "needs_background": "light"
          }
        }
      ]
    },
    {
      "cell_type": "markdown",
      "source": [
        "In the XGBoost model, the RMSE is 2995. We used one-day-before price to predict the future price. And prediction meets all the tendency of changed of actual values. Also, prediction almost fits the actual value accurately until 2022-05. It gives a strong performance on predicting the price value, but it also would have data issues due to selecting of one-day-before data to predict."
      ],
      "metadata": {
        "id": "tBxnW9gCFj_1"
      }
    },
    {
      "cell_type": "markdown",
      "source": [
        "### LSTM"
      ],
      "metadata": {
        "id": "ENxoanvquVL3"
      }
    },
    {
      "cell_type": "markdown",
      "source": [
        "For the training loss, we use 20 epochs to train the LSTM model, and the loss decreases in epochs with some fluctuation. The 45day performs best in these three selected time length."
      ],
      "metadata": {
        "id": "by0psR5RmnDz"
      }
    },
    {
      "cell_type": "code",
      "source": [
        "hist_30d = pd.DataFrame(history_callback_30d.history)\n",
        "hist_45d = pd.DataFrame(history_callback_45d.history)\n",
        "hist_60d = pd.DataFrame(history_callback_60d.history) \n",
        "fig, ax = plt.subplots()\n",
        "ax.plot(hist_30d.index, hist_30d[\"loss\"], label=\"30day\")\n",
        "ax.plot(hist_45d.index, hist_45d[\"loss\"], label=\"45day\") \n",
        "ax.plot(hist_60d.index, hist_60d[\"loss\"], label=\"60day\")\n",
        "ax.legend()\n",
        "ax.set_ylabel(\"loss\") \n",
        "ax.set_xlabel(\"epochs\")\n",
        "ax.set_title(\"Training Loss over epochs in different selected days\")\n",
        "plt.show()\n"
      ],
      "metadata": {
        "colab": {
          "base_uri": "https://localhost:8080/",
          "height": 295
        },
        "id": "ec8gdmlPS96T",
        "outputId": "a1eab38e-f7d9-4820-c0eb-ee0079eccd40"
      },
      "execution_count": null,
      "outputs": [
        {
          "output_type": "display_data",
          "data": {
            "text/plain": [
              "<Figure size 432x288 with 1 Axes>"
            ],
            "image/png": "[encoded data removed]"
          },
          "metadata": {
            "needs_background": "light"
          }
        }
      ]
    },
    {
      "cell_type": "code",
      "source": [
        "data = df_og.filter(['btc'])\n",
        "training_data_len = math.ceil(len(data)* 0.8)\n",
        "train = data[:training_data_len]\n",
        "gt = data[training_data_len:]\n",
        "gt['Predictions-30d'] = predictions_30d\n",
        "gt['Predictions-45d'] = predictions_45d\n",
        "gt['Predictions-60d'] = predictions_60d\n",
        "plt.figure(figsize=(16,8))\n",
        "plt.title('LSTM-Predict')\n",
        "plt.xlabel('Date')\n",
        "plt.ylabel('Close Price BTC ($)')\n",
        "plt.plot(train)\n",
        "plt.plot(gt[['btc', 'Predictions-30d', 'Predictions-45d', 'Predictions-60d']])\n",
        "plt.legend(['Train', 'Ground Truth', 'Predictions-30day', 'Predictions-45day', 'Predictions-60day'], loc='lower right')\n",
        "plt.show()"
      ],
      "metadata": {
        "colab": {
          "base_uri": "https://localhost:8080/",
          "height": 513
        },
        "id": "LZbG3xl_uG3-",
        "outputId": "6b395bc1-4b0e-41db-f2ed-2addc0f32ceb"
      },
      "execution_count": null,
      "outputs": [
        {
          "output_type": "display_data",
          "data": {
            "text/plain": [
              "<Figure size 1152x576 with 1 Axes>"
            ],
            "image/png": "[encoded data removed]"
          },
          "metadata": {
            "needs_background": "light"
          }
        }
      ]
    },
    {
      "cell_type": "markdown",
      "source": [
        "For the predicting results, the 45-day performs best in predicting the price as well as the trend. In the test set, it successfully predict the decr-incr-decr-incr-decr-incr-decr-incr-decr-incr-decr sequence which includes six ascending and five descending. It is similar to the actual trend of the BTC. \n",
        "\n",
        "For 30day, it predicts the better overall decreasing trend, but it lose a lot of small period fluctuations. It only contains three descending and two ascending. For 60day, it predict the similar trends but have a larger diff with the actual price. This might be caused by which the training data is not long enough. The longer input sequence would require more data to get a better performance.\n",
        "\n",
        "Considering the RMSE which is a measure of how spread out these residuals are, the 45days prediction gives 165, the 60days prediction gives 12693, and the 30days prediction gives 7502. We can clearly tell the 45days prediction fits better."
      ],
      "metadata": {
        "id": "1nH741sMnplt"
      }
    },
    {
      "cell_type": "markdown",
      "source": [
        "## Conclusion"
      ],
      "metadata": {
        "id": "4SyD086eMmuu"
      }
    },
    {
      "cell_type": "markdown",
      "source": [
        "For this project, we exploring three different models on predicting the future BTC price and trends: ARIMA/VARMAX, XGBoost and LSTM. We compare them by the RMSE loss with the actual price, and also the trends they predict vs the actual trend.\n",
        "\n",
        "The LSTM performs best in this selected dataset and features. It gets the lowest RMSE and the most accurate trend prediction in the time series data. For the selected time length, the 45-day performs best because it is not too short for including enough details. Additionally, it also fits into this dataset. If we want to choose longer period, more data is required.\n",
        "\n",
        "Though the data we predict is closed to actual data, it could not be applied to do the BTC transaction directly. We still have a lot of work to do. First, now the model could only predict the next price according to the past x day prices, while the ideal case is that we could predict another sequence like future y-day price. Second, we do not include many features, features like USD and related stock price should be better pre-processed to fit into the model. And we need to explore more features from social media like tweets to consider the attitude to the BTC. Third, we should consider more complicated model to get a better performance with more features.\n",
        "\n",
        "During our project, we learn a lot about machine learning techniques applied to predict time series data. We are happy to see its ability to predict the price and trends of BTC. We hope we could get a better model in the future to help our investment!"
      ],
      "metadata": {
        "id": "NUNplDC6qR-v"
      }
    },
    {
      "cell_type": "markdown",
      "source": [
        "## References"
      ],
      "metadata": {
        "id": "0vhjbZZe-oHI"
      }
    },
    {
      "cell_type": "markdown",
      "source": [
        "Vidal R D-n (2014) The fractal nature of Bitcoin: evidence from wavelet power spectra. In: Pinto A, Accinelli GE, Yannacopoulos A, Hervés-Beloso C (eds) (eds)Trends in mathematical economics. Springer, Cham, pp 73–98\n",
        "\n",
        "Guo Y, Liang C (2016) Blockchain application and outlook in the banking industry. Financ Innov 2(1):24"
      ],
      "metadata": {
        "id": "tuB2leToJeh_"
      }
    },
    {
      "cell_type": "markdown",
      "source": [
        "Dataset: \n",
        "\n",
        "Bitcoin prices: https://finance.yahoo.com/quote/BTC-USD/history?p=BTC-USD\n",
        "\n",
        "US Dollar Index: https://finance.yahoo.com/quote/DX-Y.NYB/history?p=DX-Y.NYB\n",
        "\n",
        "Relevant tweets from twitter: https://www.kaggle.com/datasets/kaushiksuresh147/bitcoin-tweets\n",
        "\n",
        "Past ETH prices: https://finance.yahoo.com/quote/ETH-USD/history?p=ETH-USD\n",
        "\n",
        "Past BNB prices: https://finance.yahoo.com/quote/BNB-USD/history?p=BNB-USD\n",
        "\n",
        "Past Coinbase prices: https://finance.yahoo.com/quote/COIN/history?p=COIN\n",
        "        \n",
        "Past RIOT Blockchain Prices: https://finance.yahoo.com/quote/RIOT/history?p=RIOT"
      ],
      "metadata": {
        "id": "ZryrRVB_JgD3"
      }
    }
  ]
}